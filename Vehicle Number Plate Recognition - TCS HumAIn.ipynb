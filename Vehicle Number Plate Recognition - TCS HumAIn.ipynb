{
 "cells": [
  {
   "cell_type": "markdown",
   "metadata": {},
   "source": [
    "# TCS HumAIn 2019\n",
    "## Vehicle Number Plate Recognition\n"
   ]
  },
  {
   "cell_type": "code",
   "execution_count": 17,
   "metadata": {},
   "outputs": [],
   "source": [
    "# Extracting image dataset from provided JSON file.\n",
    "\n",
    "import pandas as pd\n",
    "import urllib\n",
    "import re\n",
    "\n",
    "jsonData = pd.read_json('Indian_Number_plates.json', lines=True)\n",
    "# jsonData.head(10)\n",
    "\n",
    "imageCount = 1\n",
    "for imgURL in jsonData['content']:\n",
    "    if imgURL.endswith('.jpeg') or imgURL.endswith('.jpg'):\n",
    "        ext = 'jpeg'\n",
    "    elif imgURL.endswith('.gif'):\n",
    "        ext = 'gif'\n",
    "    else:\n",
    "        ext = 'png'\n",
    "    if imageCount < len(jsonData)*0.8:\n",
    "        urllib.request.urlretrieve(imgURL, \"Images/Train/{}.{}\".format(imageCount, ext))\n",
    "    else:\n",
    "        urllib.request.urlretrieve(imgURL, \"Images/Test/{}.{}\".format(imageCount, ext))\n",
    "    imageCount += 1"
   ]
  },
  {
   "cell_type": "code",
   "execution_count": null,
   "metadata": {},
   "outputs": [],
   "source": []
  }
 ],
 "metadata": {
  "kernelspec": {
   "display_name": "Python 3",
   "language": "python",
   "name": "python3"
  },
  "language_info": {
   "codemirror_mode": {
    "name": "ipython",
    "version": 3
   },
   "file_extension": ".py",
   "mimetype": "text/x-python",
   "name": "python",
   "nbconvert_exporter": "python",
   "pygments_lexer": "ipython3",
   "version": "3.6.8"
  }
 },
 "nbformat": 4,
 "nbformat_minor": 2
}
